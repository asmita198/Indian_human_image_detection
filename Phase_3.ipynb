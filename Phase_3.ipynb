{
 "cells": [
  {
   "cell_type": "markdown",
   "metadata": {},
   "source": [
    "# Phase 3\n"
   ]
  },
  {
   "cell_type": "code",
   "execution_count": 1,
   "metadata": {},
   "outputs": [
    {
     "name": "stderr",
     "output_type": "stream",
     "text": [
      "C:\\Users\\Alwaz\\anaconda3\\lib\\site-packages\\tensorflow\\python\\framework\\dtypes.py:516: FutureWarning: Passing (type, 1) or '1type' as a synonym of type is deprecated; in a future version of numpy, it will be understood as (type, (1,)) / '(1,)type'.\n",
      "  _np_qint8 = np.dtype([(\"qint8\", np.int8, 1)])\n",
      "C:\\Users\\Alwaz\\anaconda3\\lib\\site-packages\\tensorflow\\python\\framework\\dtypes.py:517: FutureWarning: Passing (type, 1) or '1type' as a synonym of type is deprecated; in a future version of numpy, it will be understood as (type, (1,)) / '(1,)type'.\n",
      "  _np_quint8 = np.dtype([(\"quint8\", np.uint8, 1)])\n",
      "C:\\Users\\Alwaz\\anaconda3\\lib\\site-packages\\tensorflow\\python\\framework\\dtypes.py:518: FutureWarning: Passing (type, 1) or '1type' as a synonym of type is deprecated; in a future version of numpy, it will be understood as (type, (1,)) / '(1,)type'.\n",
      "  _np_qint16 = np.dtype([(\"qint16\", np.int16, 1)])\n",
      "C:\\Users\\Alwaz\\anaconda3\\lib\\site-packages\\tensorflow\\python\\framework\\dtypes.py:519: FutureWarning: Passing (type, 1) or '1type' as a synonym of type is deprecated; in a future version of numpy, it will be understood as (type, (1,)) / '(1,)type'.\n",
      "  _np_quint16 = np.dtype([(\"quint16\", np.uint16, 1)])\n",
      "C:\\Users\\Alwaz\\anaconda3\\lib\\site-packages\\tensorflow\\python\\framework\\dtypes.py:520: FutureWarning: Passing (type, 1) or '1type' as a synonym of type is deprecated; in a future version of numpy, it will be understood as (type, (1,)) / '(1,)type'.\n",
      "  _np_qint32 = np.dtype([(\"qint32\", np.int32, 1)])\n",
      "C:\\Users\\Alwaz\\anaconda3\\lib\\site-packages\\tensorflow\\python\\framework\\dtypes.py:525: FutureWarning: Passing (type, 1) or '1type' as a synonym of type is deprecated; in a future version of numpy, it will be understood as (type, (1,)) / '(1,)type'.\n",
      "  np_resource = np.dtype([(\"resource\", np.ubyte, 1)])\n",
      "C:\\Users\\Alwaz\\anaconda3\\lib\\site-packages\\tensorboard\\compat\\tensorflow_stub\\dtypes.py:541: FutureWarning: Passing (type, 1) or '1type' as a synonym of type is deprecated; in a future version of numpy, it will be understood as (type, (1,)) / '(1,)type'.\n",
      "  _np_qint8 = np.dtype([(\"qint8\", np.int8, 1)])\n",
      "C:\\Users\\Alwaz\\anaconda3\\lib\\site-packages\\tensorboard\\compat\\tensorflow_stub\\dtypes.py:542: FutureWarning: Passing (type, 1) or '1type' as a synonym of type is deprecated; in a future version of numpy, it will be understood as (type, (1,)) / '(1,)type'.\n",
      "  _np_quint8 = np.dtype([(\"quint8\", np.uint8, 1)])\n",
      "C:\\Users\\Alwaz\\anaconda3\\lib\\site-packages\\tensorboard\\compat\\tensorflow_stub\\dtypes.py:543: FutureWarning: Passing (type, 1) or '1type' as a synonym of type is deprecated; in a future version of numpy, it will be understood as (type, (1,)) / '(1,)type'.\n",
      "  _np_qint16 = np.dtype([(\"qint16\", np.int16, 1)])\n",
      "C:\\Users\\Alwaz\\anaconda3\\lib\\site-packages\\tensorboard\\compat\\tensorflow_stub\\dtypes.py:544: FutureWarning: Passing (type, 1) or '1type' as a synonym of type is deprecated; in a future version of numpy, it will be understood as (type, (1,)) / '(1,)type'.\n",
      "  _np_quint16 = np.dtype([(\"quint16\", np.uint16, 1)])\n",
      "C:\\Users\\Alwaz\\anaconda3\\lib\\site-packages\\tensorboard\\compat\\tensorflow_stub\\dtypes.py:545: FutureWarning: Passing (type, 1) or '1type' as a synonym of type is deprecated; in a future version of numpy, it will be understood as (type, (1,)) / '(1,)type'.\n",
      "  _np_qint32 = np.dtype([(\"qint32\", np.int32, 1)])\n",
      "C:\\Users\\Alwaz\\anaconda3\\lib\\site-packages\\tensorboard\\compat\\tensorflow_stub\\dtypes.py:550: FutureWarning: Passing (type, 1) or '1type' as a synonym of type is deprecated; in a future version of numpy, it will be understood as (type, (1,)) / '(1,)type'.\n",
      "  np_resource = np.dtype([(\"resource\", np.ubyte, 1)])\n"
     ]
    }
   ],
   "source": [
    "from tensorflow.keras.preprocessing.image import ImageDataGenerator\n",
    "import numpy as np\n",
    "import matplotlib.pyplot as plt"
   ]
  },
  {
   "cell_type": "code",
   "execution_count": 2,
   "metadata": {},
   "outputs": [
    {
     "name": "stdout",
     "output_type": "stream",
     "text": [
      "Found 2096 images belonging to 2 classes.\n"
     ]
    }
   ],
   "source": [
    "gen = ImageDataGenerator()\n",
    "batch_size = 2000\n",
    "\n",
    "#Fetching Image ________\n",
    "\n",
    "flow = gen.flow_from_directory(\"C:\\\\Users\\\\Alwaz\\Desktop\\\\Gridcv dataset\\\\\", color_mode=\"grayscale\", target_size=(200, 200), batch_size=batch_size)\n",
    "out = flow.next()"
   ]
  },
  {
   "cell_type": "code",
   "execution_count": 3,
   "metadata": {},
   "outputs": [
    {
     "data": {
      "text/plain": [
       "{'human images': 0, 'non human images': 1}"
      ]
     },
     "execution_count": 3,
     "metadata": {},
     "output_type": "execute_result"
    }
   ],
   "source": [
    "flow.class_indices"
   ]
  },
  {
   "cell_type": "code",
   "execution_count": 4,
   "metadata": {},
   "outputs": [
    {
     "name": "stdout",
     "output_type": "stream",
     "text": [
      "(2000, 200, 200, 1)\n",
      "(2000, 2)\n",
      "\n"
     ]
    }
   ],
   "source": [
    "X,y = out\n",
    "print(X.shape)\n",
    "print(y.shape)\n",
    "X = X.reshape(X.shape[0],-1)\n",
    "y =out[1].argmax(axis=1)\n",
    "print()"
   ]
  },
  {
   "cell_type": "code",
   "execution_count": 5,
   "metadata": {},
   "outputs": [
    {
     "name": "stdout",
     "output_type": "stream",
     "text": [
      "X_train shape : (1340, 40000)\n",
      "y_train shape : (1340,)\n",
      "X_test shape : (660, 40000)\n",
      "y_test shape : (660,)\n"
     ]
    }
   ],
   "source": [
    "from sklearn.model_selection import train_test_split\n",
    "\n",
    "X_train, X_test, y_train, y_test = train_test_split(X, y, test_size=0.33, random_state=42)\n",
    "\n",
    "#  Reshaping _____\n",
    "\n",
    "X_train=X_train.reshape(X_train.shape[0],-1)\n",
    "X_test=X_test.reshape(X_test.shape[0],-1)\n",
    "\n",
    "print(\"X_train shape :\",X_train.shape)\n",
    "print(\"y_train shape :\",y_train.shape)\n",
    "print(\"X_test shape :\",X_test.shape)\n",
    "print(\"y_test shape :\",y_test.shape)"
   ]
  },
  {
   "cell_type": "code",
   "execution_count": 6,
   "metadata": {},
   "outputs": [
    {
     "name": "stdout",
     "output_type": "stream",
     "text": [
      "accuracy:  0.8082089552238806\n",
      "81.36 % For LogisticRegression with Grid Search\n"
     ]
    }
   ],
   "source": [
    "              #        Logistic Regression ______________\n",
    "\n",
    "from sklearn.linear_model import LogisticRegression\n",
    "from sklearn.model_selection import GridSearchCV\n",
    "from sklearn.metrics import confusion_matrix, accuracy_score\n",
    "\n",
    "grid={\"C\":np.logspace(-2,2,7),\"penalty\":[\"l1\",\"l2\"], \"solver\":[\"liblinear\"], \"tol\":np.logspace(-2,2,4)},\n",
    "\n",
    "logistic_regression=LogisticRegression(random_state=42)\n",
    "log_reg_cv=GridSearchCV(logistic_regression,grid,cv=10)\n",
    "\n",
    "log_reg_cv.fit(X_train, y_train)\n",
    "\n",
    "print(\"accuracy: \", log_reg_cv.best_score_)\n",
    "\n",
    "\n",
    "res=log_reg_cv.predict(X_test)\n",
    "\n",
    "print(str(round(accuracy_score(y_test,res)*100,2)) + \" % For LogisticRegression with Grid Search\") "
   ]
  },
  {
   "cell_type": "code",
   "execution_count": 8,
   "metadata": {},
   "outputs": [
    {
     "name": "stdout",
     "output_type": "stream",
     "text": [
      "77.42 % For KNN without Grid Search\n"
     ]
    }
   ],
   "source": [
    "                   # KNN without GRID ________\n",
    "\n",
    "from sklearn.neighbors import KNeighborsClassifier\n",
    "from sklearn.metrics import accuracy_score\n",
    "\n",
    "classifier = KNeighborsClassifier(n_neighbors=3, metric='euclidean')\n",
    "classifier.fit(X_train, y_train)\n",
    "\n",
    "pred_y_knn_without = classifier.predict(X_test)\n",
    "\n",
    "print(str(round(accuracy_score(y_test,pred_y_knn_without)*100,2)) + \" % For KNN without Grid Search\") "
   ]
  },
  {
   "cell_type": "code",
   "execution_count": 9,
   "metadata": {},
   "outputs": [
    {
     "name": "stdout",
     "output_type": "stream",
     "text": [
      "81.52 % For SVC with Grid Search\n"
     ]
    }
   ],
   "source": [
    "                #  SVC without GRIDsearch ______________________2\n",
    "     \n",
    "from sklearn.svm import SVC\n",
    "class_svc = SVC(kernel='linear', random_state=0)\n",
    "class_svc.fit(X_train, y_train)\n",
    "y_pred_svc = class_svc.predict(X_test)\n",
    "\n",
    "print(str(round(accuracy_score(y_test,y_pred_svc)*100,2)) + \" % For SVC without Grid Search\") # SVC"
   ]
  },
  {
   "cell_type": "code",
   "execution_count": 10,
   "metadata": {},
   "outputs": [
    {
     "name": "stdout",
     "output_type": "stream",
     "text": [
      "77.42 % For KNN with Grid Search\n"
     ]
    }
   ],
   "source": [
    "               # KNN with GRID ________________\n",
    "    \n",
    "from sklearn.model_selection import GridSearchCV\n",
    "from sklearn.preprocessing import StandardScaler\n",
    "from sklearn.pipeline import Pipeline\n",
    "\n",
    "pipe = Pipeline([\n",
    "        ('sc', StandardScaler()),     \n",
    "        ('knn', KNeighborsClassifier(algorithm='brute')) \n",
    "    ])\n",
    "\n",
    "params = {\n",
    "        'knn__n_neighbors': [3, 5, 7, 9, 11] # usually odd numbers\n",
    "    }\n",
    "\n",
    "clf = GridSearchCV(estimator=pipe,           \n",
    "                      param_grid=params, \n",
    "                      cv=5,\n",
    "                      return_train_score=True) # Turn on cv train scores\n",
    "clf.fit(X_train, y_train)\n",
    "\n",
    "y_pred_knn=clf.predict(X_test)\n",
    "\n",
    "print(str(round(accuracy_score(y_test,y_pred_knn)*100,2)) + \" % For KNN with Grid Search\") # knn"
   ]
  },
  {
   "cell_type": "code",
   "execution_count": null,
   "metadata": {},
   "outputs": [],
   "source": [
    "          # Inputting Image for recognition _______\n",
    "    \n",
    "import tqdm\n",
    "from keras.preprocessing import image\n",
    "\n",
    "train_image = []\n",
    "for i in (range(1,555)):\n",
    "    try:\n",
    "        img = image.load_img('C:\\\\Users\\\\Alwaz\\\\Desktop\\\\Gridcv dataset\\\\non human images\\\\t ({a}).jpeg'.format(a=i), target_size=(200,200),grayscale=True,interpolation='nearest')\n",
    "        img = image.img_to_array(img)\n",
    "        path = 'C:\\\\Users\\\\Alwaz\\\\Desktop\\\\Gridcv dataset\\\\non human images\\\\t ({a}).jpeg'.format(a=i)\n",
    "        train_image.append(img)\n",
    "    except Exception as e:\n",
    "        print(e)\n",
    "        continue\n",
    "    r = np.array(img)\n",
    "    r=r.reshape(1,-1)\n",
    "    #print(r.shape)\n",
    "    print(\".\")\n",
    "    if clf.predict(r)==1:\n",
    "        print(path)\n",
    "    #print(clf.predict(r))\n",
    "    \n",
    "#print(r.shape)\n",
    "#r=r.reshape(r.shape[0],-1)\n",
    "#print(r.shape)\n",
    "#print(path)\n",
    "#print(clf.predict(r))\n",
    "\n"
   ]
  },
  {
   "cell_type": "code",
   "execution_count": null,
   "metadata": {},
   "outputs": [],
   "source": []
  }
 ],
 "metadata": {
  "kernelspec": {
   "display_name": "Python 3",
   "language": "python",
   "name": "python3"
  },
  "language_info": {
   "codemirror_mode": {
    "name": "ipython",
    "version": 3
   },
   "file_extension": ".py",
   "mimetype": "text/x-python",
   "name": "python",
   "nbconvert_exporter": "python",
   "pygments_lexer": "ipython3",
   "version": "3.8.5"
  }
 },
 "nbformat": 4,
 "nbformat_minor": 4
}
