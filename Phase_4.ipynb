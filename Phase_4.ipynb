{
 "cells": [
  {
   "cell_type": "markdown",
   "metadata": {},
   "source": [
    "# ML Batch B12"
   ]
  },
  {
   "cell_type": "code",
   "execution_count": 55,
   "metadata": {},
   "outputs": [],
   "source": [
    "from tensorflow.keras.preprocessing.image import ImageDataGenerator # Generate batches of tensor image data with real-time data augmentation.\n",
    "import numpy as np\n",
    "import pickle\n"
   ]
  },
  {
   "cell_type": "code",
   "execution_count": 2,
   "metadata": {},
   "outputs": [
    {
     "name": "stdout",
     "output_type": "stream",
     "text": [
      "Found 2740 images belonging to 3 classes.\n"
     ]
    }
   ],
   "source": [
    "gen = ImageDataGenerator()\n",
    "batch_size = 2186\n",
    "\n",
    "#Fetching Image ________\n",
    "\n",
    "# Takes the path to a directory & generates batches of augmented data.\n",
    "\n",
    "flow = gen.flow_from_directory(\"C:\\\\Users\\\\Alwaz\\Desktop\\\\Image dataset\\\\\", color_mode=\"rgb\", target_size=(200, 200), batch_size=batch_size)\n",
    "out = flow.next()"
   ]
  },
  {
   "cell_type": "code",
   "execution_count": 3,
   "metadata": {},
   "outputs": [
    {
     "data": {
      "text/plain": [
       "{'Foreigners image': 0, 'indian image': 1, 'non human images': 2}"
      ]
     },
     "execution_count": 3,
     "metadata": {},
     "output_type": "execute_result"
    }
   ],
   "source": [
    "flow.class_indices"
   ]
  },
  {
   "cell_type": "code",
   "execution_count": 4,
   "metadata": {},
   "outputs": [
    {
     "name": "stdout",
     "output_type": "stream",
     "text": [
      "(2186, 200, 200, 3)\n",
      "(2186, 3)\n"
     ]
    }
   ],
   "source": [
    "X,y = out\n",
    "print(X.shape)\n",
    "print(y.shape)\n",
    "X = X.reshape(X.shape[0],-1)\n",
    "y =out[1].argmax(axis=1)\n",
    "# The numpy.argmax() function returns indices of the max element of the array in a particular axis."
   ]
  },
  {
   "cell_type": "code",
   "execution_count": 5,
   "metadata": {},
   "outputs": [
    {
     "name": "stdout",
     "output_type": "stream",
     "text": [
      "X_train shape : (1464, 120000)\n",
      "y_train shape : (1464,)\n",
      "X_test shape : (722, 120000)\n",
      "y_test shape : (722,)\n"
     ]
    }
   ],
   "source": [
    "from sklearn.model_selection import train_test_split\n",
    "\n",
    "X_train, X_test, y_train, y_test = train_test_split(X, y, test_size=0.33, random_state=42)\n",
    "\n",
    "#  Reshaping _____\n",
    "\n",
    "X_train=X_train.reshape(X_train.shape[0],-1)\n",
    "X_test=X_test.reshape(X_test.shape[0],-1)\n",
    "\n",
    "print(\"X_train shape :\",X_train.shape)\n",
    "print(\"y_train shape :\",y_train.shape)\n",
    "print(\"X_test shape :\",X_test.shape)\n",
    "print(\"y_test shape :\",y_test.shape)"
   ]
  },
  {
   "cell_type": "markdown",
   "metadata": {},
   "source": [
    "# Using SVM to train model\n"
   ]
  },
  {
   "cell_type": "code",
   "execution_count": 6,
   "metadata": {},
   "outputs": [
    {
     "name": "stdout",
     "output_type": "stream",
     "text": [
      "61.91 % For SVC without Grid Search\n"
     ]
    }
   ],
   "source": [
    "                #  SVC without GRIDsearch ______________________2\n",
    "     \n",
    "from sklearn.svm import SVC\n",
    "\n",
    "#A support vector machine (SVM) is a supervised machine learning model that uses classification algorithms for two-group classification problems.\n",
    "\n",
    "from sklearn.metrics import accuracy_score\n",
    "class_svc = SVC(kernel='linear', random_state=0)\n",
    "class_svc.fit(X_train, y_train)\n",
    "\n",
    "y_pred_svc = class_svc.predict(X_test)\n",
    "print(str(round(accuracy_score(y_test,y_pred_svc)*100,2)) + \" % For SVC without Grid Search\") # SVC"
   ]
  },
  {
   "cell_type": "markdown",
   "metadata": {},
   "source": [
    "# Using pickle to save Model"
   ]
  },
  {
   "cell_type": "code",
   "execution_count": null,
   "metadata": {},
   "outputs": [],
   "source": [
    "import pickle\n",
    "# save the model to disk\n",
    "filename = 'finalized_model.sav'\n",
    "pickle.dump(class_svc, open(filename, 'wb'))\n"
   ]
  },
  {
   "cell_type": "code",
   "execution_count": 36,
   "metadata": {},
   "outputs": [],
   "source": [
    "# load the model from disk\n",
    "loaded_model = pickle.load(open(filename, 'rb'))"
   ]
  },
  {
   "cell_type": "markdown",
   "metadata": {},
   "source": [
    "# Renaming Files\n",
    "\n"
   ]
  },
  {
   "cell_type": "code",
   "execution_count": 17,
   "metadata": {},
   "outputs": [],
   "source": [
    "import os\n",
    "\n",
    "# The OS module in Python provides functions for interacting with the operating system. OS comes under Python’s standard utility modules. This module provides a portable way of using operating system-dependent functionality\n",
    "# list dir -  listdir() returns a list containing the names of the entries in the directory given by path.\n",
    "\n",
    "def renamed_files(path, label):\n",
    "    \"\"\"\n",
    "    Rename files so they can contain \"test n\", \n",
    "\n",
    "    Arguments:\n",
    "    path -- path where images are located that will be renamed\n",
    "    label -- the label the images will be get\n",
    "\n",
    "    Output:\n",
    "    files will be renamed in the same folder\n",
    "    \"\"\"\n",
    "    i = 1\n",
    "\n",
    "    for filename in os.listdir(path):\n",
    "        try:\n",
    "            f, extension = os.path.splitext(path+filename)\n",
    "            src = path+filename\n",
    "            dst = path+label+str(i)+extension\n",
    "            os.rename(src, dst)\n",
    "            i += 1\n",
    "\n",
    "        except Exception as e:\n",
    "            print(e)\n",
    "            i += 1\n",
    "\n",
    "\n",
    "path = \"C:\\\\Users\\\\Alwaz\\\\Desktop\\\\Test set\\\\\"\n",
    "label = \"test \"\n",
    "\n",
    "renamed_files(path, label)"
   ]
  },
  {
   "cell_type": "markdown",
   "metadata": {},
   "source": [
    "# Loading Files in Bulk to Predict and Filter"
   ]
  },
  {
   "cell_type": "code",
   "execution_count": 11,
   "metadata": {},
   "outputs": [
    {
     "name": "stdout",
     "output_type": "stream",
     "text": [
      "File is Filtered and moved to C:\\Users\\Alwaz\\Desktop\\Filtered Image\n"
     ]
    }
   ],
   "source": [
    "\n",
    "import shutil\n",
    "from keras.preprocessing import image\n",
    "\n",
    "\n",
    "# LOADING image to Filter ________________\n",
    "\n",
    "train_image = []\n",
    "\n",
    "for i in range(1,50):\n",
    "    try:\n",
    "        \n",
    "        img = image.load_img('{r}{u}{a}.jpg'.format(u=label,r=path,a=i), target_size=(200,200),color_mode = \"rgb\",interpolation='nearest')\n",
    "        img = image.img_to_array(img)   # Converts a PIL Image instance to a Numpy array\n",
    "        train_image.append(img)\n",
    "    except Exception as e:\n",
    "        print(e)\n",
    "        continue\n",
    "    r = np.array(img)\n",
    "    r=r.reshape(1,-1)\n",
    "    \n",
    "    # Moving files from 'test set' to 'Filtered images' folder\n",
    "    \n",
    "    if loaded_model.predict(r) == 1:         # 1 is for Indian \n",
    "        original = r'C:\\\\Users\\\\Alwaz\\\\Desktop\\\\Test set\\\\test {a}.jpg'.format(a=i)\n",
    "        target = r'C:\\\\Users\\\\Alwaz\\\\Desktop\\\\Filtered Image\\\\test {a}.jpg'.format(a=i)\n",
    "        shutil.copyfile(original, target)\n",
    "\n",
    "print(\"File is Filtered and moved to C:\\\\Users\\\\Alwaz\\\\Desktop\\\\Filtered Image\")    "
   ]
  },
  {
   "cell_type": "markdown",
   "metadata": {},
   "source": [
    "# Loading Single Image Manually to predict"
   ]
  },
  {
   "cell_type": "code",
   "execution_count": 54,
   "metadata": {
    "scrolled": true
   },
   "outputs": [
    {
     "name": "stdout",
     "output_type": "stream",
     "text": [
      "Its Non human image\n"
     ]
    },
    {
     "data": {
      "image/png": "[encoded data removed]",
      "text/plain": [
       "<Figure size 432x288 with 1 Axes>"
      ]
     },
     "metadata": {
      "needs_background": "light"
     },
     "output_type": "display_data"
    }
   ],
   "source": [
    "import tqdm \n",
    "import shutil\n",
    "from keras.preprocessing import image\n",
    "\n",
    "\n",
    "# LOADING image to Filter ________________\n",
    "\n",
    "train_image = []\n",
    "\n",
    "for i in range(1,2): # Used to test one image at a time\n",
    "    try:\n",
    "        \n",
    "        img = image.load_img('C:\\\\Users\\\\Alwaz\\\\Desktop\\\\Individual Test set\\\\a ({a}).jpg'.format(a=i), target_size=(200,200),color_mode = \"rgb\",interpolation='nearest')\n",
    "        img = image.img_to_array(img)   # Converts a PIL Image instance to a Numpy array\n",
    "        train_image.append(img)\n",
    "    except Exception as e:\n",
    "        print(e)\n",
    "        continue\n",
    "    r = np.array(img)\n",
    "    r=r.reshape(1,-1)\n",
    "    \n",
    "   # reading the image\n",
    "    testImage = imgs.imread('C:\\\\Users\\\\Alwaz\\\\Desktop\\\\Individual Test set\\\\a ({a}).jpg'.format(a=i))\n",
    "    plt.imshow(testImage)\n",
    "    \n",
    "    if loaded_model.predict(r) == 0:\n",
    "        print(\"Its Foreigners image\")\n",
    "    if loaded_model.predict(r) == 1:\n",
    "        print(\"Its Indian image\")\n",
    "    if loaded_model.predict(r) == 2:    \n",
    "        print(\"Its Non human image\")"
   ]
  },
  {
   "cell_type": "code",
   "execution_count": null,
   "metadata": {},
   "outputs": [],
   "source": []
  }
 ],
 "metadata": {
  "kernelspec": {
   "display_name": "Python 3",
   "language": "python",
   "name": "python3"
  },
  "language_info": {
   "codemirror_mode": {
    "name": "ipython",
    "version": 3
   },
   "file_extension": ".py",
   "mimetype": "text/x-python",
   "name": "python",
   "nbconvert_exporter": "python",
   "pygments_lexer": "ipython3",
   "version": "3.8.5"
  }
 },
 "nbformat": 4,
 "nbformat_minor": 4
}
